{
 "cells": [
  {
   "cell_type": "code",
   "execution_count": 58,
   "metadata": {},
   "outputs": [
    {
     "name": "stdout",
     "output_type": "stream",
     "text": [
      "[ 20. 130. 150.  40.  60.  80.  20. 100.   0.  10.   0.   0.  20.  70.\n",
      "  80.  90.   0.  20.  70.  20. 110.  60.  80.  10.   0.  10. 170.  60.\n",
      " 160.  10.   0.   0.  20.   0.  40.  10.  30.  60.  10.  10.  60.  40.\n",
      "  60.  80.  90.  70. 140.  50.  10.  50.  50.  10.  50.  10.  40.   0.\n",
      "  50.  30.  20.  10.  10.  10. 100.   0.  30.  30.  20.   0.  10.   0.\n",
      "  20.  50.   0. 130.  60.  10.   0.  70.   0.  10. 130.  10.  80.   0.\n",
      "  30.  30.  10.  10.   0.  20.   0.  30.  30.   0.  40.  70.  50.  90.\n",
      "   0.  60.]\n"
     ]
    },
    {
     "data": {
      "text/plain": [
       "(array([39., 18., 12.,  8., 10.,  5.,  1.,  3.,  2.,  2.]),\n",
       " array([  0.,  17.,  34.,  51.,  68.,  85., 102., 119., 136., 153., 170.]),\n",
       " <a list of 10 Patch objects>)"
      ]
     },
     "execution_count": 58,
     "metadata": {},
     "output_type": "execute_result"
    },
    {
     "data": {
      "image/png": "[encoded data removed]",
      "text/plain": [
       "<matplotlib.figure.Figure at 0x1100c5450>"
      ]
     },
     "metadata": {},
     "output_type": "display_data"
    }
   ],
   "source": [
    "import numpy as np\n",
    "import random \n",
    "import matplotlib.pyplot as plt\n",
    "\n",
    "m=40 # initial salary in thousands\n",
    "n=100 # number of students\n",
    "#t=10 # number of test\n",
    "\n",
    "money=np.linspace( m, m, n)\n",
    "\n",
    "for i in range(0,n):\n",
    "    for j in range(0,n):\n",
    "        if i != j:\n",
    "#            w=np.random.randint(3, size=2) #not working...\n",
    "            w=[]  # 0=paper, 1=scissor, 2=stone\n",
    "            w.append(np.random.randint(0,3))\n",
    "            w.append(np.random.randint(0,3))            \n",
    "#            print w\n",
    "            if w[0]!=w[1]:\n",
    "                if w==[0,1] and money[i]>0:\n",
    "                    money[i]-=10\n",
    "                    money[j]+=10\n",
    "                if w==[1,0] and money[j]>0:\n",
    "                    money[i]+=10\n",
    "                    money[j]-=10\n",
    "                if w==[1,2] and money[i]>0:\n",
    "                    money[i]-=10\n",
    "                    money[j]+=10\n",
    "                if w==[2,1] and money[j]>0:\n",
    "                    money[i]+=10\n",
    "                    money[j]-=10\n",
    "                if w==[2,0] and money[i]>0:\n",
    "                    money[i]-=10\n",
    "                    money[j]+=10\n",
    "                if w==[0,2] and money[j]>0:\n",
    "                    money[i]+=10\n",
    "                    money[j]-=10\n",
    "print money\n",
    "\n",
    "plt.hist(money,10)\n"
   ]
  },
  {
   "cell_type": "code",
   "execution_count": 8,
   "metadata": {},
   "outputs": [
    {
     "name": "stdout",
     "output_type": "stream",
     "text": [
      "Initially:\n",
      "Money= [40, 40, 40, 40, 40, 40, 40, 40, 40, 40, 40, 40, 40, 40, 40, 40, 40, 40, 40, 40, 40, 40, 40, 40, 40, 40, 40, 40, 40, 40, 40, 40, 40, 40, 40, 40, 40, 40, 40, 40, 40, 40, 40, 40, 40, 40, 40, 40, 40, 40, 40, 40, 40, 40, 40, 40, 40, 40, 40, 40, 40, 40, 40, 40, 40, 40, 40, 40, 40, 40, 40, 40, 40, 40, 40, 40, 40, 40, 40, 40, 40, 40, 40, 40, 40, 40, 40, 40, 40, 40, 40, 40, 40, 40, 40, 40, 40, 40, 40, 40]\n",
      "After so many tires:\n",
      "400000\n",
      "[7953, 7999, 7828, 7850, 7907, 7939, 7704, 7998, 7872, 7873, 7907, 7905, 7957, 7786, 7771, 7836, 8074, 8036, 7942, 7895, 7831, 7962, 7883, 8020, 7870, 7974, 8052, 8098, 7836, 7972, 7883, 7910, 7888, 8003, 7853, 7917, 7856, 7873, 8026, 7871, 8082, 7817, 7905, 8003, 7925, 7928, 7798, 7879, 8083, 7993, 7973, 7908, 7896, 7866, 7838, 7885, 7981, 7841, 8009, 7911, 8099, 8026, 7880, 7946, 7897, 7961, 7951, 7975, 7839, 7786, 7999, 7856, 8029, 7912, 7856, 7921, 7862, 8023, 8002, 7940, 8030, 7811, 7839, 7990, 7802, 7798, 7987, 8016, 8038, 7870, 7875, 7893, 7844, 7900, 8098, 7785, 7952, 7959, 7964, 7962]\n",
      "At the end:\n",
      "Money= [10, 0, 40, 0, 10, 160, 100, 60, 20, 30, 0, 60, 70, 80, 30, 60, 30, 40, 30, 10, 20, 20, 0, 40, 20, 140, 40, 10, 60, 10, 10, 110, 110, 10, 30, 20, 90, 30, 50, 60, 10, 60, 50, 0, 30, 0, 110, 50, 10, 30, 0, 30, 140, 40, 20, 20, 10, 100, 10, 0, 210, 80, 100, 40, 0, 20, 50, 10, 70, 140, 60, 10, 20, 60, 0, 10, 80, 0, 70, 0, 10, 30, 20, 20, 80, 10, 30, 40, 20, 50, 110, 0, 10, 10, 10, 0, 10, 0, 0, 70]\n"
     ]
    },
    {
     "data": {
      "image/png": "[encoded data removed]",
      "text/plain": [
       "<matplotlib.figure.Figure at 0x127bcbb90>"
      ]
     },
     "metadata": {},
     "output_type": "display_data"
    }
   ],
   "source": [
    "import numpy as np\n",
    "import random \n",
    "import matplotlib.pyplot as plt\n",
    "\n",
    "m=40 # initial salary in thousands\n",
    "n=100 # number of students\n",
    "dm = 10 #increment for winning\n",
    "most_try=20000 # number of test\n",
    "\n",
    "money=[m for i in range(0,n)]\n",
    "tries=[0 for i in range(0,n)]\n",
    "end=[most_try for i in range(0,n)]\n",
    "\n",
    "print \"Initially:\"\n",
    "print \"Money=\",money\n",
    "\n",
    "k=0\n",
    "while tries != end and k< n*most_try/5.:\n",
    "    k+=1\n",
    "    i=np.random.randint(n)\n",
    "    j=np.random.randint(n)\n",
    "    if i != j and tries[i]<most_try and tries[j]<most_try:\n",
    "        tries[i] +=1\n",
    "        tries[j] +=1\n",
    "#        print tries\n",
    "#            w=np.random.randint(3, size=2) #not working...\n",
    "        w=[]  # 0=paper, 1=scissor, 2=stone\n",
    "        \n",
    "        w.append(np.random.randint(0,3))\n",
    "        w.append(np.random.randint(0,3))            \n",
    "#            print w\n",
    "        if w[0]!=w[1]:\n",
    "            \n",
    "            if w==[0,1] and money[i]>0:\n",
    "                money[i]-=dm\n",
    "                money[j]+=dm\n",
    "            if w==[1,0] and money[j]>0:\n",
    "                money[i]+=dm\n",
    "                money[j]-=dm\n",
    "            if w==[1,2] and money[i]>0:\n",
    "                money[i]-=dm\n",
    "                money[j]+=dm\n",
    "            if w==[2,1] and money[j]>0:\n",
    "                money[i]+=dm\n",
    "                money[j]-=dm\n",
    "            if w==[2,0] and money[i]>0:\n",
    "                money[i]-=dm\n",
    "                money[j]+=dm\n",
    "            if w==[0,2] and money[j]>0:\n",
    "                money[i]+=dm\n",
    "                money[j]-=dm\n",
    "            \n",
    "\n",
    "print \"After so many tires:\"\n",
    "print k\n",
    "print tries\n",
    "\n",
    "print \"At the end:\"\n",
    "print \"Money=\",money\n",
    "\n",
    "\n",
    "plt.hist(money,10)\n",
    "plt.xlabel(\"Money\")\n",
    "plt.ylabel(\"Number of Students\")\n",
    "plt.show()\n"
   ]
  },
  {
   "cell_type": "code",
   "execution_count": 46,
   "metadata": {},
   "outputs": [
    {
     "name": "stdout",
     "output_type": "stream",
     "text": [
      "Initially:\n",
      "Money= [40, 40, 40, 40, 40, 40, 40, 40, 40, 40, 40, 40, 40, 40, 40, 40, 40, 40, 40, 40, 40, 40, 40, 40, 40, 40, 40, 40, 40, 40, 40, 40, 40, 40, 40, 40, 40, 40, 40, 40, 40, 40, 40, 40, 40, 40, 40, 40, 40, 40, 40, 40, 40, 40, 40, 40, 40, 40, 40, 40, 40, 40, 40, 40, 40, 40, 40, 40, 40, 40, 40, 40, 40, 40, 40, 40, 40, 40, 40, 40, 40, 40, 40, 40, 40, 40, 40, 40, 40, 40, 40, 40, 40, 40, 40, 40, 40, 40, 40, 40]\n",
      "3600.0\n",
      "After so many tires:\n",
      "3600\n",
      "[30, 30, 30, 30, 30, 30, 30, 30, 30, 27, 30, 30, 30, 30, 30, 30, 30, 30, 30, 30, 30, 30, 30, 30, 30, 30, 26, 30, 30, 30, 30, 25, 30, 30, 30, 30, 30, 29, 30, 27, 30, 30, 30, 30, 30, 30, 30, 30, 30, 29, 30, 30, 30, 30, 30, 30, 30, 30, 30, 27, 30, 30, 25, 30, 30, 30, 23, 30, 30, 30, 30, 30, 30, 30, 27, 30, 30, 30, 30, 30, 30, 30, 28, 28, 28, 30, 30, 30, 30, 30, 30, 30, 30, 30, 27, 30, 30, 30, 30, 30]\n",
      "At the end:\n",
      "Money= [90, 10, 30, 10, 0, 60, 0, 20, 100, 50, 0, 60, 60, 30, 100, 10, 50, 0, 0, 0, 30, 0, 30, 60, 20, 20, 0, 10, 30, 50, 60, 70, 10, 30, 40, 50, 20, 20, 40, 60, 60, 150, 30, 70, 70, 0, 20, 40, 60, 50, 0, 40, 100, 40, 60, 30, 30, 0, 10, 60, 130, 90, 20, 30, 10, 20, 30, 40, 0, 10, 80, 0, 10, 50, 60, 0, 50, 130, 70, 0, 0, 30, 30, 40, 20, 0, 0, 70, 130, 60, 130, 70, 70, 60, 100, 0, 0, 50, 30, 30]\n"
     ]
    },
    {
     "data": {
      "image/png": "[encoded data removed]",
      "text/plain": [
       "<matplotlib.figure.Figure at 0x123d91410>"
      ]
     },
     "metadata": {},
     "output_type": "display_data"
    }
   ],
   "source": [
    "import numpy as np\n",
    "import random \n",
    "import matplotlib.pyplot as plt\n",
    "\n",
    "m=40             # initial salary in thousands\n",
    "n=100            # number of students\n",
    "dm = 10          #increment for winning\n",
    "most_try_each=30 # maximum number of game each student plays\n",
    "maximum_try=most_try_each*n    # maximum number of games all students play\n",
    "\n",
    "money=[m for i in range(0,n)]\n",
    "tries=[0 for i in range(0,n)]\n",
    "end=[most_try_each for i in range(0,n)]\n",
    "\n",
    "print \"Initially:\"\n",
    "print \"Money=\",money\n",
    "print maximum_try\n",
    "\n",
    "k=0\n",
    "while tries != end and k < maximum_try:   \n",
    "    k += 1\n",
    "    i=np.random.randint(n)   # player 1\n",
    "    j=np.random.randint(n)   # player 2\n",
    "    if i != j and tries[i]<most_try_each and tries[j]<most_try_each:        \n",
    "        tries[i] +=1\n",
    "        tries[j] +=1\n",
    "        w = [np.random.randint(0,3),np.random.randint(0,3)]   # 0=paper, 1=scissor, 2=stone               \n",
    "        if w[0]!=w[1]:           \n",
    "            if w==[0,1] and money[i]>=dm:\n",
    "                money[i]-=dm\n",
    "                money[j]+=dm\n",
    "            if w==[1,0] and money[j]>=dm:\n",
    "                money[i]+=dm\n",
    "                money[j]-=dm\n",
    "            if w==[1,2] and money[i]>=dm:\n",
    "                money[i]-=dm\n",
    "                money[j]+=dm\n",
    "            if w==[2,1] and money[j]>=dm:\n",
    "                money[i]+=dm\n",
    "                money[j]-=dm\n",
    "            if w==[2,0] and money[i]>=dm:\n",
    "                money[i]-=dm\n",
    "                money[j]+=dm\n",
    "            if w==[0,2] and money[j]>=dm:\n",
    "                money[i]+=dm\n",
    "                money[j]-=dm\n",
    "            \n",
    "\n",
    "print \"After so many tires:\"\n",
    "print k\n",
    "print tries\n",
    "\n",
    "print \"At the end:\"\n",
    "print \"Money=\",money\n",
    "\n",
    "\n",
    "plt.hist(money,10)\n",
    "plt.xlabel(\"Money\")\n",
    "plt.ylabel(\"Number of Students\")\n",
    "plt.show()"
   ]
  },
  {
   "cell_type": "code",
   "execution_count": 4,
   "metadata": {},
   "outputs": [
    {
     "name": "stdout",
     "output_type": "stream",
     "text": [
      "Initially:\n",
      "Money= [50, 50, 50, 50, 50, 50, 50, 50, 50, 50, 50, 50, 50, 50, 50, 50, 50, 50, 50, 50, 50, 50, 50, 50, 50, 50, 50, 50, 50, 50, 50, 50, 50, 50, 50, 50, 50, 50, 50, 50, 50, 50, 50, 50, 50, 50, 50, 50, 50, 50, 50, 50, 50, 50, 50, 50, 50, 50, 50, 50, 50, 50, 50, 50, 50, 50, 50, 50, 50, 50, 50, 50, 50, 50, 50, 50, 50, 50, 50, 50, 50, 50, 50, 50, 50, 50, 50, 50, 50, 50, 50, 50, 50, 50, 50, 50, 50, 50, 50, 50]\n",
      "12000.0\n",
      "After so many tires:\n",
      "12000\n",
      "[100, 100, 100, 100, 100, 100, 100, 100, 100, 100, 100, 100, 100, 100, 96, 100, 97, 100, 100, 100, 100, 100, 100, 100, 100, 100, 100, 100, 92, 100, 100, 100, 100, 100, 100, 100, 100, 100, 100, 100, 100, 100, 100, 100, 100, 100, 100, 86, 100, 100, 100, 100, 93, 100, 100, 100, 100, 100, 100, 100, 100, 100, 100, 100, 100, 100, 100, 97, 100, 100, 100, 100, 100, 100, 100, 100, 100, 100, 100, 100, 100, 100, 100, 100, 100, 100, 100, 100, 100, 100, 100, 100, 100, 100, 100, 100, 93, 100, 100, 100]\n",
      "At the end:\n",
      "Money= [130, 40, 0, 40, 20, 60, 0, 150, 0, 0, 20, 40, 20, 140, 40, 0, 20, 0, 60, 100, 140, 20, 0, 100, 20, 20, 100, 0, 80, 70, 60, 100, 40, 40, 0, 0, 20, 170, 60, 20, 80, 20, 0, 40, 0, 190, 40, 20, 0, 0, 40, 40, 20, 20, 20, 0, 20, 0, 20, 20, 40, 0, 40, 0, 40, 20, 0, 60, 0, 40, 80, 40, 100, 140, 0, 20, 0, 0, 0, 20, 50, 160, 50, 40, 0, 0, 40, 40, 0, 0, 40, 160, 40, 0, 0, 60, 120, 60, 30, 20]\n"
     ]
    },
    {
     "data": {
      "image/png": "[encoded data removed]",
      "text/plain": [
       "<matplotlib.figure.Figure at 0x10e4a65d0>"
      ]
     },
     "metadata": {},
     "output_type": "display_data"
    }
   ],
   "source": [
    "import numpy as np\n",
    "import random \n",
    "import matplotlib.pyplot as plt\n",
    "\n",
    "m=50             # initial salary in thousands\n",
    "n=100            # number of students\n",
    "dm = 20          #increment for winning\n",
    "most_try_each=100 # maximum number of game each student plays\n",
    "maximum_try=most_try_each*n*1.2    # maximum number of games all students play\n",
    "\n",
    "money=[m for i in range(0,n)]\n",
    "tries=[0 for i in range(0,n)]\n",
    "end=[most_try_each for i in range(0,n)]\n",
    "\n",
    "print \"Initially:\"\n",
    "print \"Money=\",money\n",
    "print maximum_try\n",
    "\n",
    "k=0\n",
    "while tries != end and k < maximum_try:   \n",
    "    k += 1\n",
    "    i=np.random.randint(n)   # player 1\n",
    "    j=np.random.randint(n)   # player 2\n",
    "    if i != j and tries[i]<most_try_each and tries[j]<most_try_each:        \n",
    "        tries[i] +=1\n",
    "        tries[j] +=1\n",
    "        w = np.random.randint(0,3)   # 0=equal, 1= j win, 2= i win              \n",
    "        if w==1: \n",
    "            if money[i]>=dm:\n",
    "                money[i]-=dm\n",
    "                money[j]+=dm\n",
    "            else:\n",
    "                money[i] = 0\n",
    "                money[j] += money[i]\n",
    "        if w==2: \n",
    "            if money[j]>=dm:\n",
    "                money[i]+=dm\n",
    "                money[j]-=dm\n",
    "            else:\n",
    "                money[j] = 0\n",
    "                money[i] += money[j]\n",
    "\n",
    "print \"After so many tires:\"\n",
    "print k\n",
    "print tries\n",
    "\n",
    "print \"At the end:\"\n",
    "print \"Money=\",money\n",
    "\n",
    "plt.hist(money,20)\n",
    "plt.xlabel(\"Money\")\n",
    "plt.ylabel(\"Number of Students\")\n",
    "plt.show()"
   ]
  },
  {
   "cell_type": "code",
   "execution_count": 20,
   "metadata": {},
   "outputs": [
    {
     "name": "stdout",
     "output_type": "stream",
     "text": [
      "Initially:\n",
      "Money= [50, 50, 50, 50, 50, 50, 50, 50, 50, 50, 50, 50, 50, 50, 50, 50, 50, 50, 50, 50, 50, 50, 50, 50, 50, 50, 50, 50, 50, 50, 50, 50, 50, 50, 50, 50, 50, 50, 50, 50, 50, 50, 50, 50, 50, 50, 50, 50, 50, 50, 50, 50, 50, 50, 50, 50, 50, 50, 50, 50, 50, 50, 50, 50, 50, 50, 50, 50, 50, 50, 50, 50, 50, 50, 50, 50, 50, 50, 50, 50, 50, 50, 50, 50, 50, 50, 50, 50, 50, 50, 50, 50, 50, 50, 50, 50, 50, 50, 50, 50]\n",
      "12000.0\n",
      "After so many tires:\n",
      "12000\n",
      "[100, 100, 100, 100, 100, 100, 100, 100, 100, 100, 100, 100, 100, 100, 100, 100, 98, 100, 100, 100, 100, 100, 100, 100, 100, 100, 100, 100, 100, 100, 100, 100, 100, 100, 100, 100, 100, 100, 100, 100, 100, 100, 100, 100, 100, 100, 100, 100, 100, 100, 100, 100, 100, 100, 100, 100, 100, 100, 100, 100, 100, 93, 100, 100, 100, 100, 100, 100, 100, 100, 100, 100, 100, 100, 100, 100, 100, 100, 100, 100, 100, 100, 100, 100, 100, 100, 100, 100, 100, 100, 100, 100, 100, 100, 97, 100, 100, 100, 100, 100]\n",
      "At the end:\n",
      "Money= [190, 80, 0, 40, 20, 140, 0, 40, 60, 40, 20, 80, 0, 40, 0, 20, 60, 40, 20, 60, 40, 40, 80, 200, 0, 60, 0, 0, 20, 0, 40, 120, 60, 20, 0, 0, 40, 80, 20, 40, 40, 0, 20, 0, 0, 40, 20, 50, 70, 0, 140, 80, 0, 20, 200, 40, 60, 0, 20, 0, 40, 20, 0, 100, 60, 40, 120, 20, 60, 20, 0, 0, 80, 20, 0, 40, 0, 20, 0, 0, 40, 0, 40, 0, 20, 20, 20, 20, 60, 80, 140, 0, 40, 90, 20, 0, 60, 0, 0, 150]\n",
      "(array([30., 21., 20., 11.,  8.,  1.,  2.,  4.,  0.,  3.]), array([  0.,  20.,  40.,  60.,  80., 100., 120., 140., 160., 180., 200.]), <a list of 10 Patch objects>)\n"
     ]
    },
    {
     "data": {
      "image/png": "[encoded data removed]",
      "text/plain": [
       "<matplotlib.figure.Figure at 0x151bdfda10>"
      ]
     },
     "metadata": {},
     "output_type": "display_data"
    },
    {
     "name": "stdout",
     "output_type": "stream",
     "text": [
      "[30. 21. 20. 11.  8.  1.  2.  4.  0.  3.]\n",
      "[ 20.  40.  60.  80. 100. 120. 140. 160. 180. 200.]\n",
      "[48.18393193]\n"
     ]
    },
    {
     "data": {
      "image/png": "[encoded data removed]",
      "text/plain": [
       "<matplotlib.figure.Figure at 0x10e4a6790>"
      ]
     },
     "metadata": {},
     "output_type": "display_data"
    }
   ],
   "source": [
    "import numpy as np\n",
    "import random \n",
    "import matplotlib.pyplot as plt\n",
    "\n",
    "m=50             # initial salary in thousands\n",
    "n=100            # number of students\n",
    "dm = 20          #increment for winning\n",
    "most_try_each=100 # maximum number of game each student plays\n",
    "maximum_try=most_try_each*n*1.2    # maximum number of games all students play\n",
    "\n",
    "money=[m for i in range(0,n)]\n",
    "tries=[0 for i in range(0,n)]\n",
    "end=[most_try_each for i in range(0,n)]\n",
    "\n",
    "print \"Initially:\"\n",
    "print \"Money=\",money\n",
    "print maximum_try\n",
    "\n",
    "k=0\n",
    "while tries != end and k < maximum_try:   \n",
    "    k += 1\n",
    "    i=np.random.randint(n)   # player 1\n",
    "    j=np.random.randint(n)   # player 2\n",
    "    if i != j and tries[i]<most_try_each and tries[j]<most_try_each:        \n",
    "        tries[i] +=1\n",
    "        tries[j] +=1\n",
    "        w = np.random.randint(0,3)   # 0=equal, 1= j win, 2= i win              \n",
    "        if w==1: \n",
    "            if money[i]>=dm:\n",
    "                money[i]-=dm\n",
    "                money[j]+=dm\n",
    "            else:\n",
    "                money[i] = 0\n",
    "                money[j] += money[i]\n",
    "        if w==2: \n",
    "            if money[j]>=dm:\n",
    "                money[i]+=dm\n",
    "                money[j]-=dm\n",
    "            else:\n",
    "                money[j] = 0\n",
    "                money[i] += money[j]\n",
    "\n",
    "print \"After so many tires:\"\n",
    "print k\n",
    "print tries\n",
    "\n",
    "print \"At the end:\"\n",
    "print \"Money=\",money\n",
    "\n",
    "a=plt.hist(money,10)\n",
    "print a\n",
    "plt.xlabel(\"Money\")\n",
    "plt.ylabel(\"Number of Students\")\n",
    "plt.show()\n",
    "print a[0]\n",
    "dx=(a[1][2]-a[1][1])\n",
    "bins= np.linspace(dx, dx*a[0].size, a[0].size)\n",
    "print bins\n",
    "\n",
    "from scipy import optimize\n",
    "\n",
    "def test_func(x, amp):\n",
    "    return amp * np.exp(-x/50)\n",
    "\n",
    "params, params_covariance = optimize.curve_fit(test_func, bins, a[0])\n",
    "print params\n",
    "plt.hist(money,10)\n",
    "plt.plot(bins, test_func(bins, params[0]), label='Fitted function')\n",
    "plt.show()\n",
    "#bins = [(a[1][i+1]+a[1][i])/2 for i in range(a[0])]\n",
    "#bins=linspace()"
   ]
  },
  {
   "cell_type": "code",
   "execution_count": null,
   "metadata": {},
   "outputs": [],
   "source": []
  },
  {
   "cell_type": "code",
   "execution_count": null,
   "metadata": {},
   "outputs": [],
   "source": []
  }
 ],
 "metadata": {
  "kernelspec": {
   "display_name": "Python 2",
   "language": "python",
   "name": "python2"
  },
  "language_info": {
   "codemirror_mode": {
    "name": "ipython",
    "version": 2
   },
   "file_extension": ".py",
   "mimetype": "text/x-python",
   "name": "python",
   "nbconvert_exporter": "python",
   "pygments_lexer": "ipython2",
   "version": "2.7.14"
  }
 },
 "nbformat": 4,
 "nbformat_minor": 2
}
