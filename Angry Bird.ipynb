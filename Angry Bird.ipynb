{
 "cells": [
  {
   "cell_type": "markdown",
   "metadata": {},
   "source": [
    "## Angry Bird!"
   ]
  },
  {
   "cell_type": "code",
   "execution_count": 37,
   "metadata": {},
   "outputs": [
    {
     "name": "stdout",
     "output_type": "stream",
     "text": [
      "[ 47.56869031] [ 2.41024609]\n"
     ]
    }
   ],
   "source": [
    "import numpy as np\n",
    "import matplotlib.pyplot as plt\n",
    "\n",
    "# A Pig shows at (x, y),  0<x<100, 0<y<100\n",
    "x_max, y_max = 100, 100\n",
    "pig_x = np.random.random(1)* x_max\n",
    "pig_y = np.random.random(1)* y_max\n",
    "print(pig_x, pig_y)"
   ]
  },
  {
   "cell_type": "code",
   "execution_count": 38,
   "metadata": {},
   "outputs": [
    {
     "name": "stdout",
     "output_type": "stream",
     "text": [
      "[ 0.     0.001  0.002 ...,  0.998  0.999  1.   ]\n"
     ]
    }
   ],
   "source": [
    "t=np.linspace(0,1,1001)\n",
    "print(t)"
   ]
  },
  {
   "cell_type": "code",
   "execution_count": 39,
   "metadata": {},
   "outputs": [],
   "source": [
    "#A Bird sits at (0,0) at the beginning\n",
    "g=9.8      #m/s^2\n",
    "\n",
    "#v0=float(input(\"Initial velocity:\"))\n",
    "#theta=float(input(\"Initial angle:\"))\n",
    "v0=10.     #m/s\n",
    "theta=30.  #deg"
   ]
  },
  {
   "cell_type": "code",
   "execution_count": 40,
   "metadata": {},
   "outputs": [
    {
     "name": "stdout",
     "output_type": "stream",
     "text": [
      "0.5235987755982988\n"
     ]
    },
    {
     "data": {
      "image/png": "[encoded data removed]",
      "text/plain": [
       "<matplotlib.figure.Figure at 0x10538c8d0>"
      ]
     },
     "metadata": {},
     "output_type": "display_data"
    }
   ],
   "source": [
    "import math\n",
    "# x= v0*cos(theta)*t\n",
    "theta=theta*math.pi/180.\n",
    "print(theta)\n",
    "x=v0*math.cos(theta)*t\n",
    "y=v0*math.sin(theta)*t-0.5*g*t**2\n",
    "\n",
    "plt.xlim(0,100)\n",
    "plt.ylim(0,100)\n",
    "plt.plot(pig_x,pig_y,'ro')\n",
    "plt.plot(x,y)\n",
    "plt.show()"
   ]
  }
 ],
 "metadata": {
  "kernelspec": {
   "display_name": "Python 3",
   "language": "python",
   "name": "python3"
  },
  "language_info": {
   "codemirror_mode": {
    "name": "ipython",
    "version": 3
   },
   "file_extension": ".py",
   "mimetype": "text/x-python",
   "name": "python",
   "nbconvert_exporter": "python",
   "pygments_lexer": "ipython3",
   "version": "3.6.3"
  }
 },
 "nbformat": 4,
 "nbformat_minor": 2
}
